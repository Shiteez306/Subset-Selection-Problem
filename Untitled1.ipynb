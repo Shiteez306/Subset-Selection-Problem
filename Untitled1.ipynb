{
  "nbformat": 4,
  "nbformat_minor": 0,
  "metadata": {
    "colab": {
      "provenance": [],
      "authorship_tag": "ABX9TyPxFXAoV8l8YFa+0F4lPhBR",
      "include_colab_link": true
    },
    "kernelspec": {
      "name": "python3",
      "display_name": "Python 3"
    },
    "language_info": {
      "name": "python"
    }
  },
  "cells": [
    {
      "cell_type": "markdown",
      "metadata": {
        "id": "view-in-github",
        "colab_type": "text"
      },
      "source": [
        "<a href=\"https://colab.research.google.com/github/Shiteez306/Subset-Selection-Problem/blob/main/Untitled1.ipynb\" target=\"_parent\"><img src=\"https://colab.research.google.com/assets/colab-badge.svg\" alt=\"Open In Colab\"/></a>"
      ]
    },
    {
      "cell_type": "code",
      "execution_count": 2,
      "metadata": {
        "colab": {
          "base_uri": "https://localhost:8080/"
        },
        "id": "ye_UzTo2gq9R",
        "outputId": "472294b5-fdd4-44c1-d3ae-ac22add3ecab"
      },
      "outputs": [
        {
          "output_type": "stream",
          "name": "stdout",
          "text": [
            "(-2, -3, 11, 3, -9)\n",
            "(-3, -4, 3, -2, 6)\n",
            "(-3, 7, 2, 1, -7)\n",
            "(-7, 6, 2, -12, 11)\n",
            "(-3, 3, -7, -2, 9)\n",
            "(-6, 3, -5, 6, 2)\n",
            "(-3, 9, -2, 3, -7)\n",
            "(-9, -2, 6, 9, -4)\n",
            "(11, -12, 3, 1, -3)\n",
            "(-4, 2, 7, -6, 1)\n",
            "(-8, 6, 1, 3, -2)\n",
            "(1, 6, 9, -9, -7)\n",
            "(-6, 1, 11, -2, -4)\n",
            "(-5, 1, 3, 9, -8)\n",
            "(-6, 1, -4, 11, -2)\n",
            "(-2, 1, 6, -12, 7)\n",
            "(3, 1, -3, 7, -8)\n",
            "(-5, 2, 9, 1, -7)\n",
            "(9, 1, -9, 6, -7)\n",
            "(-9, 2, 3, 6, -2)\n",
            "(-7, 7, 6, -8, 2)\n",
            "(2, 6, 1, 3, -12)\n",
            "(-12, -6, 6, 9, 3)\n",
            "(-3, 7, -7, -8, 11)\n",
            "(-8, 11, -6, 1, 2)\n",
            "\n",
            "Total Sets:  25\n"
          ]
        },
        {
          "output_type": "stream",
          "name": "stderr",
          "text": [
            "<ipython-input-2-863105f7322f>:23: DeprecationWarning: Sampling from a set deprecated\n",
            "since Python 3.9 and will be removed in a subsequent version.\n",
            "  Chromosome = r.sample(Set,SetSize)\n"
          ]
        }
      ],
      "source": [
        "#-------------------------------------------------------------\n",
        "# Step 1: Library inclusion\n",
        "#-------------------------------------------------------------\n",
        "import random as r\n",
        "\n",
        "\n",
        "#-------------------------------------------------------------\n",
        "# Step 2: Parameter Setting\n",
        "#-------------------------------------------------------------\n",
        "Set         = set([-12, -3, -6, 7, 2, -2, 6, 3, 9, -7, -5, -8, 1, 11, -9, -4])\n",
        "SetSize     = 5\n",
        "ResultList  = set()    # Store Result List i.e. list of sets whose sum is zero\n",
        "Iterations  = 1000   # Number of Inerations\n",
        "\n",
        "\n",
        "#-------------------------------------------------------------\n",
        "# Step3: Start Program\n",
        "#-------------------------------------------------------------\n",
        "\n",
        "# Loop till number of Iterations\n",
        "for i in range(Iterations):\n",
        "    # Select number of elements from Set\n",
        "    Chromosome = r.sample(Set,SetSize)\n",
        "\n",
        "    # Sum the number of elements in the Chromosome\n",
        "    if sum(Chromosome) == 0:\n",
        "        ResultList.add(tuple(Chromosome))\n",
        "\n",
        "# Print all the sets whose sum is zero\n",
        "for r in ResultList:\n",
        "\tprint (r)\n",
        "\n",
        "# Print total sets\n",
        "print (\"\\nTotal Sets: \", len(ResultList))\n"
      ]
    }
  ]
}